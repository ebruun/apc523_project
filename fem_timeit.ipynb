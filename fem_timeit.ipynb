{
 "cells": [
  {
   "cell_type": "markdown",
   "id": "cbcff817-d1ed-4975-a1dd-fbe328f205d5",
   "metadata": {},
   "source": [
    "# Comparison between solvers for systems of linear equations\n",
    "\n",
    "Group project: I.M. de Oliveira and E. Brunn\n",
    "\n",
    "APC523: Numerical Methods for Scientific Computing\n",
    "\n",
    "Spring 2021\n",
    "\n",
    "Prof. Hammett"
   ]
  },
  {
   "cell_type": "markdown",
   "id": "277dbb0f-7623-4f49-948a-77d4907b2cc0",
   "metadata": {},
   "source": [
    "## Import the required functions\n",
    "\n",
    "(Note: The attempt of importing the files was unsuccessful using Jupyter lab in Windows, hence they are copied and pasted here)."
   ]
  },
  {
   "cell_type": "code",
   "execution_count": 1,
   "id": "e4b3b4c1-4e79-497f-9b4e-6323d2051e81",
   "metadata": {},
   "outputs": [],
   "source": [
    "import numpy as np\n",
    "from numpy.linalg import norm\n",
    "import matplotlib.pyplot as plt\n",
    "\n",
    "def setup(G, force_x, force_y, elasticity, area):\n",
    "    \"\"\"\n",
    "    Setup geometry, material, boundary conditions, loads, cross-section.\n",
    "    \"\"\"\n",
    "    # define coordinate system\n",
    "    x_axis = np.array([1.0, 0.0])\n",
    "    y_axis = np.array([0.0, 1.0])\n",
    "\n",
    "    # define model\n",
    "    nodes = G.vertex_list\n",
    "\n",
    "    list_dof = [[2*i + j for j in range(1,3)] for i in range(len(nodes))]\n",
    "    list_nodes = list(nodes.keys())\n",
    "    dof = dict(zip(list_nodes, list_dof))\n",
    "\n",
    "    elements = G.edge_list\n",
    "\n",
    "    restrained_dof = [1, 2, 3, 4] # supports at the first 2 nodes\n",
    "    forces = dict(zip(nodes, [[0]* 2]*len(nodes)))\n",
    "    forces[list_nodes[-1]] = [force_x, force_y] # force y direction at the last node\n",
    "\n",
    "    # material properties [force/area]\n",
    "    stiffnesses = dict(zip(elements, [elasticity]*len(elements))) # Steel [kN/cm2]\n",
    "\n",
    "    # cross-section properties [area]\n",
    "    areas = dict(zip(elements, [area]*len(elements))) # [cm2]\n",
    "\n",
    "    ndof = 2 * len(nodes)\n",
    "\n",
    "    return {'x_axis': x_axis, 'y_axis': y_axis, 'nodes': nodes,\n",
    "            'dof': dof, 'elements': elements, 'restrained_dof': restrained_dof,\n",
    "            'forces': forces, 'ndof': ndof, 'stiffnesses': stiffnesses,\n",
    "            'areas': areas}\n",
    "\n",
    "def plot_nodes(nodes):\n",
    "    \"\"\"\n",
    "    Plot nodes with global enumeration.\n",
    "    \"\"\"\n",
    "    x = [i[0] for i in nodes.values()]\n",
    "    y = [i[1] for i in nodes.values()]\n",
    "    size = 400\n",
    "    offset = size/4000\n",
    "    plt.scatter(x, y, c='b', s=size, zorder=5)\n",
    "\n",
    "    for i, location in enumerate(zip(x, y)):\n",
    "        plt.annotate(i+1, (location[0]-offset,  location[1]-offset), zorder=10)\n",
    "\n",
    "def points(element, properties):\n",
    "    \"\"\"\n",
    "    Get start and end points of an element, and respective degrees of freedom.\n",
    "    \"\"\"\n",
    "    elements = properties['elements']\n",
    "    nodes = properties['nodes']\n",
    "    dof = properties['dof']\n",
    "\n",
    "    # find nodes that elements connects\n",
    "    start_node = elements[element][0]\n",
    "    end_node = elements[element][1]\n",
    "\n",
    "    # coordinates for each node\n",
    "    start_pt = np.array(nodes[start_node])\n",
    "    end_pt = np.array(nodes[end_node])\n",
    "\n",
    "    # degrees of freedom for each node\n",
    "    dof_ns = dof[start_node] # get the first 2 dof from start node\n",
    "    dof_nodes = list(dof_ns)\n",
    "    dof_nodes.extend(dof[end_node]) # add 2 dof from end node and flatten list\n",
    "    dof_nodes = np.array(dof_nodes)\n",
    "\n",
    "    return start_pt, end_pt, dof_nodes\n",
    "\n",
    "def draw_element(start_pt, end_pt, element, areas):\n",
    "    \"\"\"\n",
    "    Draw an element with linewidth proportional to it's cross-section area.\n",
    "    \"\"\"\n",
    "    plt.plot([start_pt[0], end_pt[0]], [start_pt[1], end_pt[1]], color='k',\n",
    "            linestyle='-', zorder=1) #arbitraty scale\n",
    "\n",
    "def direction_cosine(vec1, vec2):\n",
    "    \"\"\"\n",
    "    Get the direction cosine (the cosine of the angle between two vectors).\n",
    "    \"\"\"\n",
    "    return np.dot(vec1, vec2) / (norm(vec1) * norm(vec2))\n",
    "\n",
    "def rotation_matrix(element_vec, x_axis, y_axis):\n",
    "    \"\"\"\n",
    "    Rotation matrix of an element.\n",
    "    \"\"\"\n",
    "    x_proj = direction_cosine(element_vec, x_axis)\n",
    "    y_proj = direction_cosine(element_vec, y_axis)\n",
    "\n",
    "    return np.array([[x_proj, y_proj, 0, 0], [0, 0, x_proj, y_proj]])\n",
    "\n",
    "def get_matrices(properties):\n",
    "    \"\"\"\n",
    "    \"\"\"\n",
    "    # construct the global stiffness matrix\n",
    "    ndof = properties['ndof']\n",
    "    nodes = properties['nodes']\n",
    "    elements = properties['elements']\n",
    "    forces = properties['forces']\n",
    "    areas = properties['areas']\n",
    "    x_axis = properties['x_axis']\n",
    "    y_axis = properties['y_axis']\n",
    "\n",
    "    plot_nodes(nodes)\n",
    "\n",
    "    K = np.zeros((ndof, ndof))\n",
    "\n",
    "    for element in elements:\n",
    "        # find element geometry\n",
    "        start_pt, end_pt, dof = points(element, properties)\n",
    "        element_vec = end_pt - start_pt\n",
    "        draw_element(start_pt, end_pt, element, areas)\n",
    "\n",
    "        # local element stiffness matrix\n",
    "        length = norm(element_vec)\n",
    "        area = properties['areas'][element]\n",
    "        E = properties['stiffnesses']\n",
    "\n",
    "        c_k = E[element] * area / length\n",
    "\n",
    "        # local k for a truss element\n",
    "        k_element = np.array([[1, -1], [-1, 1]])\n",
    "\n",
    "        # element rotation matrix\n",
    "        q_element = rotation_matrix(element_vec, x_axis, y_axis)\n",
    "        # apply rotation\n",
    "        k_q = q_element.T.dot(k_element).dot(q_element)\n",
    "\n",
    "        # connectivity matrix determines where k_element is added in the global\n",
    "        # K matrix\n",
    "        index = dof - 1\n",
    "        connect = np.zeros((4, ndof)) # 4 is the number of dof for a truss element\n",
    "        for i in range(4):\n",
    "            connect[i, index[i]] = 1.0\n",
    "        K_q = connect.T.dot(k_q).dot(connect)\n",
    "        K += c_k * K_q\n",
    "\n",
    "    # force vector R\n",
    "    R = []\n",
    "    for r in forces.values():\n",
    "        R.extend(r)\n",
    "    R = np.array(R)\n",
    "\n",
    "    # remove restrained dof (the rows and cols of K we need to delete)\n",
    "    remove_indices = np.array(properties['restrained_dof']) - 1\n",
    "    for i in [0, 1]:\n",
    "        K = np.delete(K, remove_indices, axis=i)\n",
    "\n",
    "    R = np.delete(R, remove_indices)\n",
    "\n",
    "    return K, R\n",
    "\n",
    "def get_stresses(properties, u):\n",
    "    \"\"\"\n",
    "    Stress in each element.\n",
    "    \"\"\"\n",
    "    x_axis = properties['x_axis']\n",
    "    y_axis = properties['y_axis']\n",
    "    elements = properties['elements']\n",
    "    E = properties['stiffnesses']\n",
    "\n",
    "    # find stresses in each element in local coord.\n",
    "    stresses = []\n",
    "    for element in elements:\n",
    "        # find element geometry\n",
    "        start_pt, end_pt, _ = points(element, properties)\n",
    "        element_vec = end_pt - start_pt\n",
    "\n",
    "        # element rotation matrix\n",
    "        q_element = rotation_matrix(element_vec, x_axis, y_axis)\n",
    "        u_global = np.array([0, 0, u[0], u[1]]) # only axial displacements\n",
    "        u_element = q_element.dot(u_global)\n",
    "\n",
    "        strain = (u_element[1] - u_element[0]) / norm(element_vec)\n",
    "        stress = E[element] * strain\n",
    "        stresses.append(stress)\n",
    "\n",
    "    return stresses\n",
    "\n",
    "def show_results(u, stresses, area):\n",
    "    \"\"\"\n",
    "    Prints the nodal displacements, stresses and maximum displacement magnitude.\n",
    "    \"\"\"\n",
    "    print(\"Nodal Displacements:\", np.round(u, 5))\n",
    "    print(\"Stresses:\", np.round(stresses, 2))\n",
    "    force = np.round(stresses, 2) * area\n",
    "    print(\"Normal Forces:\", np.round(force, 2))\n",
    "    print(\"Displacment Magnitude:\", round(norm(u), 5))\n",
    "    print(\"\\n\")"
   ]
  },
  {
   "cell_type": "code",
   "execution_count": 2,
   "id": "e341296e-e158-45c0-a8fb-3f0f057bc238",
   "metadata": {},
   "outputs": [],
   "source": [
    "#PYTHON IMPORTS\n",
    "import networkx as nx\n",
    "import numpy as np\n",
    "import matplotlib.pyplot as plt\n",
    "import random\n",
    "\n",
    "from scipy.spatial import ConvexHull, convex_hull_plot_2d\n",
    "\n",
    "class Graph():\n",
    "\n",
    "    def __init__(self, vertex_list, edge_list, rigid_edge = None, edge_lengths = False):\n",
    "        \n",
    "        self.dim = 2\n",
    "\n",
    "        self.vertex_list = vertex_list\n",
    "        self.edge_list = edge_list   \n",
    "\n",
    "        if rigid_edge is None:\n",
    "            self.rigid_edge = None\n",
    "            self.ridid_node = None\n",
    "        else:\n",
    "            self.rigid_edge = rigid_edge\n",
    "            self.rigid_node = np.array([val for key,val in self.edge_list.items() if key in self.rigid_edge]).flatten()\n",
    "\n",
    "        self.G = self.create_graph()\n",
    "\n",
    "        if edge_lengths:\n",
    "            self.lengths = {values:edge_lengths[keys] for keys,values in edge_list.items()}\n",
    "        else:\n",
    "            self.lengths = self.calc_edge_len()\n",
    "\n",
    "    def create_graph(self):\n",
    "        g = nx.Graph()\n",
    "\n",
    "        g.add_nodes_from(self.vertex_list.keys())\n",
    "        g.add_edges_from(self.edge_list.values())\n",
    "\n",
    "        for n, p in self.vertex_list.items():\n",
    "            g.nodes[n]['pos'] = p\n",
    "\n",
    "        return g\n",
    "\n",
    "    def calc_edge_len(self):\n",
    "        lengths={}\n",
    "        for edge in self.edge_list.values():\n",
    "            start = np.array(self.vertex_list[edge[0]])\n",
    "            end = np.array(self.vertex_list[edge[1]])\n",
    "\n",
    "            lengths[edge] = np.linalg.norm(start-end)\n",
    "        \n",
    "        return lengths\n",
    "\n",
    "\n",
    "def generate_graph(n = 10, fac = 1):\n",
    "\n",
    "    \"\"\"generate a random graph but start with a triangle\"\"\"\n",
    "\n",
    "    points = {\n",
    "        0: (0,0),\n",
    "        1: (3,0),\n",
    "        2: (1.5,1.5),\n",
    "        }\n",
    "\n",
    "    edges = {\n",
    "        0: (0,1),\n",
    "        1: (0,2),\n",
    "        2: (1,2),\n",
    "        }\n",
    "\n",
    "    for i in range(3,n):\n",
    "        new_pnt = (round(random.random()*fac,1),round(random.random()*fac,1))\n",
    "        points[i] = new_pnt\n",
    "\n",
    "        l = [*range(0,i)]\n",
    "        new_edges = random.sample(l,2)\n",
    "\n",
    "        edges[len(edges)] = (i,new_edges[0])\n",
    "        edges[len(edges)] = (i,new_edges[1])\n",
    "\n",
    "    return points, edges\n",
    "\n",
    "def generate_graph_guess(n, vertex_list, fac = 1):\n",
    "\n",
    "    points = {\n",
    "        0: vertex_list[0],\n",
    "        1: vertex_list[1],\n",
    "    }\n",
    "\n",
    "    for i in range(2,n):\n",
    "        new_pnt = (round(random.random()*fac,1),round(random.random()*fac,1))\n",
    "        points[i] = new_pnt\n",
    "\n",
    "    return points"
   ]
  },
  {
   "cell_type": "markdown",
   "id": "7f841d1d-d759-4f0a-afd7-cc3997fb1ff6",
   "metadata": {},
   "source": [
    "## Generate graphs"
   ]
  },
  {
   "cell_type": "code",
   "execution_count": 3,
   "id": "418aad4e-e224-487d-b662-28f8b5010619",
   "metadata": {},
   "outputs": [
    {
     "data": {
      "image/png": "[encoded data removed]",
      "text/plain": [
       "<Figure size 432x288 with 1 Axes>"
      ]
     },
     "metadata": {
      "needs_background": "light"
     },
     "output_type": "display_data"
    }
   ],
   "source": [
    "# external dependencies\n",
    "from numpy.linalg import inv\n",
    "from numpy.linalg import norm\n",
    "import matplotlib.pyplot as plt\n",
    "from scipy.sparse.linalg import dsolve\n",
    "from scipy.sparse import csc_matrix\n",
    "from scipy.sparse.linalg import bicg\n",
    "\n",
    "#PYTHON IMPORTS\n",
    "import random\n",
    "\n",
    "##########################################################\n",
    "# 1. Create target structure and properties.\n",
    "##########################################################\n",
    "random.seed(12)\n",
    "\n",
    "##########################################################\n",
    "# 1.1. CHANGE NUMBER OF NODES\n",
    "##########################################################\n",
    "gen_size = 64 # Variations: 16, 32, 64, 128, 256, 512\n",
    "\n",
    "vertices, edges = generate_graph(n = gen_size, fac = 10)\n",
    "\n",
    "# meters\n",
    "G1 = Graph(vertex_list = vertices, edge_list = edges)\n",
    "\n",
    "force_x = 0 # kN\n",
    "force_y = -1000 # kN\n",
    "elasticity = 205e6 # kN/m2\n",
    "area = 0.1 * 0.1 # m2\n",
    "\n",
    "##########################################################\n",
    "# 2. Set up the problem without solving [K]{u} = {R}.\n",
    "##########################################################\n",
    "\n",
    "# problem setup\n",
    "properties = setup(G1, force_x, force_y, elasticity, area)\n",
    "\n",
    "# determine global matrices\n",
    "K, R = get_matrices(properties)"
   ]
  },
  {
   "cell_type": "markdown",
   "id": "6832c934-7be2-4305-a21b-fc0de98c4e25",
   "metadata": {},
   "source": [
    "## Solve [K]{u} = {R} using different solvers"
   ]
  },
  {
   "cell_type": "markdown",
   "id": "73561897-1f31-449d-9920-abf669d6e3c4",
   "metadata": {},
   "source": [
    "## Numpy inv"
   ]
  },
  {
   "cell_type": "markdown",
   "id": "3234e933-6d1f-4b8e-a614-60eebc8ee1e2",
   "metadata": {},
   "source": [
    "This is the method that was used to validate the structural model outputs."
   ]
  },
  {
   "cell_type": "code",
   "execution_count": 4,
   "id": "17bd58e1-3869-4f3d-846c-d8a3c890a6b3",
   "metadata": {},
   "outputs": [
    {
     "name": "stdout",
     "output_type": "stream",
     "text": [
      "332 µs ± 41.7 µs per loop (mean ± std. dev. of 7 runs, 1000 loops each)\n"
     ]
    }
   ],
   "source": [
    "%%timeit\n",
    "u = inv(K).dot(R)"
   ]
  },
  {
   "cell_type": "code",
   "execution_count": 5,
   "id": "be153f2b-ccc1-403c-a458-169939992a19",
   "metadata": {},
   "outputs": [],
   "source": [
    "u = inv(K).dot(R)"
   ]
  },
  {
   "cell_type": "markdown",
   "id": "9b2c953e-c9b5-4fa2-b778-e1fbb103fad8",
   "metadata": {},
   "source": [
    "## SciPy's LU Decomposition\n",
    "\n",
    "The scipy.linalg.solve_lu function calls LAPACK and uses the double getrs FORTRAN function.\n"
   ]
  },
  {
   "cell_type": "code",
   "execution_count": 6,
   "id": "804da6a3-c414-4312-b5d6-d3f3d6f916b6",
   "metadata": {},
   "outputs": [],
   "source": [
    "from scipy.linalg import lu_factor, lu_solve\n",
    "# with scipy lu decomposition"
   ]
  },
  {
   "cell_type": "code",
   "execution_count": 7,
   "id": "3ac7047b-3438-4d83-84a6-7c4e1cb7632d",
   "metadata": {},
   "outputs": [
    {
     "name": "stdout",
     "output_type": "stream",
     "text": [
      "130 µs ± 6.21 µs per loop (mean ± std. dev. of 7 runs, 10000 loops each)\n"
     ]
    }
   ],
   "source": [
    "%%timeit\n",
    "lu, piv = lu_factor(K)\n",
    "u_lu = lu_solve((lu, piv), R)"
   ]
  },
  {
   "cell_type": "markdown",
   "id": "7642d5e7-8a58-4875-b17f-4802015985fe",
   "metadata": {},
   "source": [
    "Verify result with validated inv method."
   ]
  },
  {
   "cell_type": "code",
   "execution_count": 8,
   "id": "3a59a7b1-f10c-4b65-9acb-71c31e91df59",
   "metadata": {},
   "outputs": [
    {
     "data": {
      "text/plain": [
       "True"
      ]
     },
     "execution_count": 8,
     "metadata": {},
     "output_type": "execute_result"
    }
   ],
   "source": [
    "lu, piv = lu_factor(K)\n",
    "u_lu = lu_solve((lu, piv), R)\n",
    "np.allclose(u, u_lu)"
   ]
  },
  {
   "cell_type": "markdown",
   "id": "3c629f5f-82f1-42b3-bbe0-7a2a0dbc5383",
   "metadata": {},
   "source": [
    "# SciPy's Biconjugate Gradient"
   ]
  },
  {
   "cell_type": "code",
   "execution_count": 9,
   "id": "8a8fc4f8-6db2-4e42-9bd7-e2432f6d16cf",
   "metadata": {},
   "outputs": [],
   "source": [
    "from scipy.sparse.linalg import bicg"
   ]
  },
  {
   "cell_type": "code",
   "execution_count": 10,
   "id": "c138ee87-3656-4144-ada3-df7d77944ef1",
   "metadata": {},
   "outputs": [
    {
     "name": "stdout",
     "output_type": "stream",
     "text": [
      "36.2 ms ± 4.95 ms per loop (mean ± std. dev. of 7 runs, 10 loops each)\n"
     ]
    }
   ],
   "source": [
    "%%timeit\n",
    "u_bicg, exit_bicg = bicg(K, R, atol=1e-10, maxiter=1e6)"
   ]
  },
  {
   "cell_type": "code",
   "execution_count": 11,
   "id": "c0183d32-68bd-4dac-b346-e5f02c2c3f7d",
   "metadata": {},
   "outputs": [],
   "source": [
    "def solve_bicg(A, b):\n",
    "    num_iters = 0\n",
    "\n",
    "    def callback(xk):\n",
    "        nonlocal num_iters\n",
    "        num_iters+=1\n",
    "\n",
    "    x, exitcode = bicg(A, b, tol=1e-10, maxiter=1e6, callback=callback)\n",
    "    return x, exitcode, num_iters"
   ]
  },
  {
   "cell_type": "code",
   "execution_count": 12,
   "id": "4005ce41-fc29-479a-ac62-fb0585628a64",
   "metadata": {},
   "outputs": [
    {
     "name": "stdout",
     "output_type": "stream",
     "text": [
      "Exit code:  0\n",
      "All close:  True\n",
      "Iterations:  420\n"
     ]
    }
   ],
   "source": [
    "u_bicg, exit_bicg, iter_bicg = solve_bicg(K, R)\n",
    "\n",
    "print('Exit code: ', exit_bicg)\n",
    "print('All close: ', np.allclose(u, u_bicg, atol=1e-2))\n",
    "print('Iterations: ', iter_bicg)"
   ]
  },
  {
   "cell_type": "markdown",
   "id": "ad500feb-f584-4e17-bd0d-5a0f442facaf",
   "metadata": {
    "tags": []
   },
   "source": [
    "## SciPy's GMRES"
   ]
  },
  {
   "cell_type": "code",
   "execution_count": 13,
   "id": "b45e692f-3570-4eaf-a6e4-2431a5405477",
   "metadata": {},
   "outputs": [],
   "source": [
    "from scipy.sparse.linalg import gmres"
   ]
  },
  {
   "cell_type": "code",
   "execution_count": 14,
   "id": "c1fa5f0c-67cd-47df-813d-6888497e132f",
   "metadata": {},
   "outputs": [
    {
     "name": "stdout",
     "output_type": "stream",
     "text": [
      "2.97 s ± 146 ms per loop (mean ± std. dev. of 7 runs, 1 loop each)\n"
     ]
    }
   ],
   "source": [
    "%%timeit\n",
    "u_gmres, exit_gmres = gmres(K, R, tol=1e-10, restart=60, maxiter=1e6)"
   ]
  },
  {
   "cell_type": "code",
   "execution_count": 15,
   "id": "308d837b-c5bd-40b4-ae41-a50917afeaca",
   "metadata": {},
   "outputs": [],
   "source": [
    "def solve_gmres(A, b):\n",
    "    num_iters = 0\n",
    "\n",
    "    def callback(xk):\n",
    "        nonlocal num_iters\n",
    "        num_iters+=1\n",
    "\n",
    "    x, exitcode = gmres(A, b, tol=1e-10, restart=60, maxiter=1e6, callback=callback)\n",
    "    return x, exitcode, num_iters"
   ]
  },
  {
   "cell_type": "code",
   "execution_count": 16,
   "id": "75b9038f-4762-488d-b7ed-31bb52a729b1",
   "metadata": {},
   "outputs": [
    {
     "name": "stdout",
     "output_type": "stream",
     "text": [
      "Exit code:  0\n",
      "All close:  True\n",
      "Iterations:  64385\n"
     ]
    }
   ],
   "source": [
    "u_gmres, exit_gmres, iter_gmres = solve_gmres(K, R)\n",
    "\n",
    "print('Exit code: ', exit_gmres)\n",
    "print('All close: ', np.allclose(u, u_gmres, atol=1e-2))\n",
    "print('Iterations: ', iter_gmres)"
   ]
  },
  {
   "cell_type": "code",
   "execution_count": null,
   "id": "4dc691a8-9590-4de2-b1d1-f5cddc610f94",
   "metadata": {},
   "outputs": [],
   "source": []
  }
 ],
 "metadata": {
  "kernelspec": {
   "display_name": "Python 3",
   "language": "python",
   "name": "python3"
  },
  "language_info": {
   "codemirror_mode": {
    "name": "ipython",
    "version": 3
   },
   "file_extension": ".py",
   "mimetype": "text/x-python",
   "name": "python",
   "nbconvert_exporter": "python",
   "pygments_lexer": "ipython3",
   "version": "3.8.8"
  }
 },
 "nbformat": 4,
 "nbformat_minor": 5
}
